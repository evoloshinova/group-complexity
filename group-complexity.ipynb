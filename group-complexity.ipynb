{
 "cells": [
  {
   "cell_type": "markdown",
   "id": "82cf88c9",
   "metadata": {},
   "source": [
    "# Групповая сложность бесконечных слов"
   ]
  },
  {
   "cell_type": "code",
   "execution_count": 23,
   "id": "14f285ac",
   "metadata": {},
   "outputs": [],
   "source": [
    "#список всех подгрупп(full=true) или всех классов сопряженности(full=false)\n",
    "def get_subgroups(i, full=False):\n",
    "    if full:\n",
    "        return SymmetricGroup(i).subgroups()\n",
    "    return SymmetricGroup(i).conjugacy_classes_subgroups()"
   ]
  },
  {
   "cell_type": "code",
   "execution_count": 24,
   "id": "63fb5076",
   "metadata": {},
   "outputs": [],
   "source": [
    "#конвертирование строки в массив символов\n",
    "def convert_to_list(string):\n",
    "    list = []\n",
    "    list[:0] = string\n",
    "    return list"
   ]
  },
  {
   "cell_type": "code",
   "execution_count": 25,
   "id": "4bf5d02d",
   "metadata": {},
   "outputs": [],
   "source": [
    "#конвертирование объекта sage в набор позиций, на которые воздействует перестановка\n",
    "def get_positions(cycle):\n",
    "    ans = []\n",
    "    i = 1\n",
    "    cycle = str(cycle)\n",
    "    while i < len(cycle) - 1:\n",
    "        n = ''\n",
    "        j = 0\n",
    "        while cycle[i + j] != ',' and cycle[i + j] != ')':\n",
    "            n += cycle[i + j]\n",
    "            j += 1\n",
    "        ans.append(int(n) - 1)\n",
    "        i += j + 1\n",
    "        \n",
    "    return ans"
   ]
  },
  {
   "cell_type": "code",
   "execution_count": 26,
   "id": "ac3fd701",
   "metadata": {},
   "outputs": [],
   "source": [
    "#применение перестановки: перестановки в SAGE записываются в цикленном виде, функция просто проходится\n",
    "#по каждому циклу из перестановки и ставит на мето текущего элемемнта следующий по циклу\n",
    "def apply_g(word, g):\n",
    "    new_word = convert_to_list(word)\n",
    "    for cycle in g:\n",
    "        for i in range(len(cycle)):\n",
    "            new_word[cycle[i]] = word[cycle[(i + 1) % len(cycle)]]\n",
    "    s = ''.join(new_word)\n",
    "    return s"
   ]
  },
  {
   "cell_type": "code",
   "execution_count": 27,
   "id": "f2ccd9d9",
   "metadata": {},
   "outputs": [],
   "source": [
    "#слово Туэ-Морса\n",
    "def generate_thue():\n",
    "    s = '01'\n",
    "    for i in range(1, 100000):\n",
    "        if s[i] == '1':\n",
    "            s += '10'\n",
    "        elif s[i] == '0':\n",
    "            s += '01'\n",
    "\n",
    "    return s\n",
    "\n",
    "#слово period-doubling\n",
    "def generate_pd():\n",
    "    s = '01'\n",
    "    for i in range(1, 1000000):\n",
    "        if s[i] == '1':\n",
    "            s += '00'\n",
    "        elif s[i] == '0':\n",
    "            s += '01'\n",
    "    #print(s, file=fout)\n",
    "    return s\n",
    "\n",
    "#слово трибоначчи\n",
    "def generate_trib():\n",
    "    s = '01'\n",
    "    for i in range(1, 1000000):\n",
    "        if s[i] == '1':\n",
    "            s += '02'\n",
    "        if s[i] == '0':\n",
    "            s += '01'\n",
    "        if s[i] == '2':\n",
    "            s += '0'\n",
    "    return s"
   ]
  },
  {
   "cell_type": "code",
   "execution_count": 28,
   "id": "942967e9",
   "metadata": {},
   "outputs": [],
   "source": [
    "#подсчет абелевой и факторной сложности и всех факторов, s --- слово, N --- до какой длины считать \n",
    "def count_subwords(s, N, show=False, fout=None):\n",
    "    subwords = []\n",
    "    complexity = []\n",
    "    for i in range(4, N):\n",
    "        c = set()\n",
    "        ab = set()\n",
    "        j = 0\n",
    "        while j + i < len(s):\n",
    "            w = s[j:j + i]\n",
    "            c.add(w)\n",
    "            #ab.add(w.count('0'))\n",
    "            ab.add((w.count('1'), w.count('2')))\n",
    "            j += 1\n",
    "\n",
    "        a = list(c)\n",
    "        subwords.append(a)\n",
    "        a.sort()\n",
    "        complexity.append((len(ab), len(c)))\n",
    "        if show:\n",
    "            print(i, ' ab = ', len(ab), 'p = ', len(c), file=fout)\n",
    "            if i < 10:\n",
    "                print(*a, sep='\\n', file=fout)\n",
    "    return subwords, complexity"
   ]
  },
  {
   "cell_type": "code",
   "execution_count": 47,
   "id": "ccc135af",
   "metadata": {},
   "outputs": [],
   "source": [
    "#функция, считающая групповую сложность\n",
    "def check(words, subgroups):\n",
    "    res = set()\n",
    "    num = [0] * (len(words) + 1)\n",
    "    for i in range(1, len(subgroups)):\n",
    "        perms = subgroups[i].list()\n",
    "        classes = {}\n",
    "        j = 0\n",
    "        for word in words:\n",
    "            classes[word] = j\n",
    "            j += 1\n",
    "        \n",
    "        G = []\n",
    "        for j in range(1, len(perms)):\n",
    "            g = []\n",
    "            for cycle in perms[j]:\n",
    "                g.append(get_positions(cycle))\n",
    "            G.append(g)\n",
    "            \n",
    "        for word in words:\n",
    "            for g in G:\n",
    "                w = apply_g(word, g)\n",
    "                if w in classes.keys():\n",
    "                    c = classes[w]\n",
    "                    t = classes[word]\n",
    "                    if c != t:\n",
    "                        for k in classes.keys():\n",
    "                            if classes[k] == c:\n",
    "                                classes[k] = t\n",
    "        #print(set(classes.values()))\n",
    "        #if len(set(classes.values())) not in res:\n",
    "            #print(len(set(classes.values())), subgroups[i])\n",
    "        num[len(set(classes.values()))]+=1\n",
    "        res.add(len(set(classes.values())))\n",
    "    return res"
   ]
  },
  {
   "cell_type": "code",
   "execution_count": 37,
   "id": "5fb20398",
   "metadata": {},
   "outputs": [],
   "source": [
    "subwords_trib, complexity_trib = count_subwords(generate_trib(), 20)\n"
   ]
  },
  {
   "cell_type": "markdown",
   "id": "60721f0c",
   "metadata": {},
   "source": [
    "Вычисление групповой сложности для слова Трибоначчи. Для 9 и 10 не достигается значение 6, но это может быть связано с тем, что перебор групп не полный. Кроме того, группы, на которых достигаются малые значения, довольно редки"
   ]
  },
  {
   "cell_type": "code",
   "execution_count": 51,
   "id": "1ce9aeb9",
   "metadata": {},
   "outputs": [
    {
     "name": "stdout",
     "output_type": "stream",
     "text": [
      "n =  5 abelian complexity = 4 complexity =  11\n",
      "group complexity:  {4, 5, 6, 7, 8, 9, 10, 11}\n",
      "n =  6 abelian complexity = 4 complexity =  13\n",
      "group complexity:  {4, 5, 6, 7, 8, 9, 10, 11, 12, 13}\n",
      "n =  7 abelian complexity = 4 complexity =  15\n",
      "group complexity:  {4, 5, 6, 7, 8, 9, 10, 11, 12, 13, 14, 15}\n",
      "n =  8 abelian complexity = 3 complexity =  17\n",
      "group complexity:  {3, 4, 5, 6, 7, 8, 9, 10, 11, 12, 13, 14, 15, 16, 17}\n",
      "n =  9 abelian complexity = 4 complexity =  19\n",
      "group complexity:  {4, 5, 7, 8, 9, 10, 11, 12, 13, 14, 15, 16, 17, 18, 19}\n",
      "n =  10 abelian complexity = 4 complexity =  21\n",
      "group complexity:  {4, 7, 8, 9, 10, 11, 12, 13, 14, 15, 16, 17, 18, 19, 20, 21}\n"
     ]
    }
   ],
   "source": [
    "for i in range(5, 11):\n",
    "    print('n = ', i, 'abelian complexity =', complexity_trib[i-4][0], 'complexity = ', complexity_trib[i-4][1])\n",
    "    full = False\n",
    "    if i < 8:\n",
    "        full = True\n",
    "    print('group complexity: ', check(set(subwords_trib[i - 4]), get_subgroups(i, full)))"
   ]
  },
  {
   "cell_type": "code",
   "execution_count": 49,
   "id": "4d31eafe",
   "metadata": {},
   "outputs": [],
   "source": [
    "subwords_pd, complexity_pd = count_subwords(generate_pd(), 20)"
   ]
  },
  {
   "cell_type": "markdown",
   "id": "f89251c4",
   "metadata": {},
   "source": [
    "Вычисление групповой сложности для period-doubling. Для значения 9 не достигается сложность 4, но скорее всего по тем же причинам, что описаны выше"
   ]
  },
  {
   "cell_type": "code",
   "execution_count": 50,
   "id": "af6a5e2c",
   "metadata": {},
   "outputs": [
    {
     "name": "stdout",
     "output_type": "stream",
     "text": [
      "n =  5 abelian complexity = 3 complexity =  8\n",
      "group complexity:  {3, 4, 5, 6, 7, 8}\n",
      "n =  6 abelian complexity = 3 complexity =  10\n",
      "group complexity:  {3, 4, 5, 6, 7, 8, 9, 10}\n",
      "n =  7 abelian complexity = 3 complexity =  11\n",
      "group complexity:  {3, 4, 5, 6, 7, 8, 9, 10, 11}\n",
      "n =  8 abelian complexity = 2 complexity =  12\n",
      "group complexity:  {2, 3, 4, 5, 6, 7, 8, 9, 10, 11, 12}\n",
      "n =  9 abelian complexity = 3 complexity =  14\n",
      "group complexity:  {3, 5, 6, 7, 8, 9, 10, 11, 12, 13, 14}\n",
      "n =  10 abelian complexity = 3 complexity =  16\n",
      "group complexity:  {3, 4, 5, 6, 7, 8, 9, 10, 11, 12, 13, 14, 15, 16}\n"
     ]
    }
   ],
   "source": [
    "for i in range(5, 11):\n",
    "    print('n = ', i, 'abelian complexity =', complexity_pd[i-4][0], 'complexity = ', complexity_pd[i-4][1])\n",
    "    full = False\n",
    "    if i < 8:\n",
    "        full = True\n",
    "    print('group complexity: ', check(set(subwords_pd[i - 4]), get_subgroups(i, full)))"
   ]
  },
  {
   "cell_type": "code",
   "execution_count": 52,
   "id": "8c5bcd22",
   "metadata": {},
   "outputs": [],
   "source": [
    "subwords_thue, complexity_thue = count_subwords(generate_thue(), 20)"
   ]
  },
  {
   "cell_type": "markdown",
   "id": "518a9882",
   "metadata": {},
   "source": [
    "Вычисление для Туэ-Морса. На нечетных длинах, как и должно быть, достгаются только четные значения (причем все возможные четные значения)."
   ]
  },
  {
   "cell_type": "code",
   "execution_count": null,
   "id": "14c2152b",
   "metadata": {},
   "outputs": [
    {
     "name": "stdout",
     "output_type": "stream",
     "text": [
      "n =  5 abelian complexity = 2 complexity =  12\n",
      "group complexity:  {2, 4, 6, 8, 10}\n",
      "n =  6 abelian complexity = 3 complexity =  16\n",
      "group complexity:  {3, 4, 5, 6, 7, 8, 9, 10, 11, 12, 13, 14}\n",
      "n =  7 abelian complexity = 2 complexity =  20\n",
      "group complexity:  {2, 4, 6, 8, 10, 12, 14, 16, 18, 20}\n",
      "n =  8 abelian complexity = 3 complexity =  22\n",
      "group complexity:  {3, 4, 5, 6, 7, 8, 9, 10, 11, 12, 13, 14, 15, 16, 17, 18, 19, 20, 22}\n",
      "n =  9 abelian complexity = 2 complexity =  24\n",
      "group complexity:  {2, 4, 6, 8, 10, 12, 14, 16, 18, 20, 22, 24}\n",
      "n =  10 abelian complexity = 3 complexity =  28\n"
     ]
    }
   ],
   "source": [
    "for i in range(5, 11):\n",
    "    print('n = ', i, 'abelian complexity =', complexity_thue[i-4][0], 'complexity = ', complexity_thue[i-4][1])\n",
    "    full = False\n",
    "    if i < 7:\n",
    "        full = True\n",
    "    print('group complexity: ', check(set(subwords_thue[i - 4]), get_subgroups(i, full)))"
   ]
  },
  {
   "cell_type": "code",
   "execution_count": null,
   "id": "d8480aaf",
   "metadata": {},
   "outputs": [],
   "source": []
  }
 ],
 "metadata": {
  "kernelspec": {
   "display_name": "SageMath 9.4",
   "language": "sage",
   "name": "sagemath-9.4"
  },
  "language_info": {
   "codemirror_mode": {
    "name": "ipython",
    "version": 3
   },
   "file_extension": ".py",
   "mimetype": "text/x-python",
   "name": "python",
   "nbconvert_exporter": "python",
   "pygments_lexer": "ipython3",
   "version": "3.9.5"
  }
 },
 "nbformat": 4,
 "nbformat_minor": 5
}
